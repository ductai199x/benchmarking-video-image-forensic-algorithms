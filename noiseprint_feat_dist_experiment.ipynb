{
 "cells": [
  {
   "cell_type": "code",
   "execution_count": 1,
   "metadata": {},
   "outputs": [],
   "source": [
    "import os\n",
    "import random\n",
    "\n",
    "import torch\n",
    "import decord\n",
    "import matplotlib.pyplot as plt\n",
    "from PIL import Image\n",
    "from torchvision.transforms.functional import to_tensor\n",
    "from tqdm.auto import tqdm\n",
    "\n",
    "decord.bridge.set_bridge(\"torch\")"
   ]
  },
  {
   "cell_type": "code",
   "execution_count": 2,
   "metadata": {},
   "outputs": [
    {
     "name": "stderr",
     "output_type": "stream",
     "text": [
      "2023-03-05 11:34:58.381615: I tensorflow/core/platform/cpu_feature_guard.cc:193] This TensorFlow binary is optimized with oneAPI Deep Neural Network Library (oneDNN) to use the following CPU instructions in performance-critical operations:  AVX2 AVX_VNNI FMA\n",
      "To enable them in other operations, rebuild TensorFlow with the appropriate compiler flags.\n",
      "2023-03-05 11:34:58.477018: I tensorflow/core/util/port.cc:104] oneDNN custom operations are on. You may see slightly different numerical results due to floating-point round-off errors from different computation orders. To turn them off, set the environment variable `TF_ENABLE_ONEDNN_OPTS=0`.\n",
      "2023-03-05 11:34:58.818674: W tensorflow/compiler/xla/stream_executor/platform/default/dso_loader.cc:64] Could not load dynamic library 'libnvinfer.so.7'; dlerror: libnvinfer.so.7: cannot open shared object file: No such file or directory\n",
      "2023-03-05 11:34:58.818708: W tensorflow/compiler/xla/stream_executor/platform/default/dso_loader.cc:64] Could not load dynamic library 'libnvinfer_plugin.so.7'; dlerror: libnvinfer_plugin.so.7: cannot open shared object file: No such file or directory\n",
      "2023-03-05 11:34:58.818711: W tensorflow/compiler/tf2tensorrt/utils/py_utils.cc:38] TF-TRT Warning: Cannot dlopen some TensorRT libraries. If you would like to use Nvidia GPU with TensorRT, please make sure the missing libraries mentioned above are installed properly.\n",
      "2023-03-05 11:34:59.209903: I tensorflow/compiler/xla/stream_executor/cuda/cuda_gpu_executor.cc:981] successful NUMA node read from SysFS had negative value (-1), but there must be at least one NUMA node, so returning NUMA node zero\n",
      "2023-03-05 11:34:59.229868: I tensorflow/compiler/xla/stream_executor/cuda/cuda_gpu_executor.cc:981] successful NUMA node read from SysFS had negative value (-1), but there must be at least one NUMA node, so returning NUMA node zero\n",
      "2023-03-05 11:34:59.229956: I tensorflow/compiler/xla/stream_executor/cuda/cuda_gpu_executor.cc:981] successful NUMA node read from SysFS had negative value (-1), but there must be at least one NUMA node, so returning NUMA node zero\n",
      "2023-03-05 11:34:59.578314: I tensorflow/core/platform/cpu_feature_guard.cc:193] This TensorFlow binary is optimized with oneAPI Deep Neural Network Library (oneDNN) to use the following CPU instructions in performance-critical operations:  AVX2 AVX_VNNI FMA\n",
      "To enable them in other operations, rebuild TensorFlow with the appropriate compiler flags.\n",
      "2023-03-05 11:34:59.579219: I tensorflow/compiler/xla/stream_executor/cuda/cuda_gpu_executor.cc:981] successful NUMA node read from SysFS had negative value (-1), but there must be at least one NUMA node, so returning NUMA node zero\n",
      "2023-03-05 11:34:59.579315: I tensorflow/compiler/xla/stream_executor/cuda/cuda_gpu_executor.cc:981] successful NUMA node read from SysFS had negative value (-1), but there must be at least one NUMA node, so returning NUMA node zero\n",
      "2023-03-05 11:34:59.579355: I tensorflow/compiler/xla/stream_executor/cuda/cuda_gpu_executor.cc:981] successful NUMA node read from SysFS had negative value (-1), but there must be at least one NUMA node, so returning NUMA node zero\n"
     ]
    },
    {
     "name": "stdout",
     "output_type": "stream",
     "text": [
      "INFO:tensorflow:Restoring parameters from /media/nas2/trained_models_repository/noiseprint_tf1/net_jpg101/model\n"
     ]
    },
    {
     "name": "stderr",
     "output_type": "stream",
     "text": [
      "2023-03-05 11:35:00.561729: I tensorflow/compiler/xla/stream_executor/cuda/cuda_gpu_executor.cc:981] successful NUMA node read from SysFS had negative value (-1), but there must be at least one NUMA node, so returning NUMA node zero\n",
      "2023-03-05 11:35:00.561823: I tensorflow/compiler/xla/stream_executor/cuda/cuda_gpu_executor.cc:981] successful NUMA node read from SysFS had negative value (-1), but there must be at least one NUMA node, so returning NUMA node zero\n",
      "2023-03-05 11:35:00.561871: I tensorflow/compiler/xla/stream_executor/cuda/cuda_gpu_executor.cc:981] successful NUMA node read from SysFS had negative value (-1), but there must be at least one NUMA node, so returning NUMA node zero\n",
      "2023-03-05 11:35:00.561929: I tensorflow/core/common_runtime/gpu/gpu_device.cc:1613] Created device /job:localhost/replica:0/task:0/device:GPU:0 with 21755 MB memory:  -> device: 0, name: NVIDIA GeForce RTX 3090, pci bus id: 0000:01:00.0, compute capability: 8.6\n",
      "2023-03-05 11:35:00.569509: I tensorflow/compiler/mlir/mlir_graph_optimization_pass.cc:357] MLIR V1 optimization pass is not enabled\n"
     ]
    }
   ],
   "source": [
    "from models.noiseprint import NoiseprintEvalPLWrapper as Noiseprint"
   ]
  },
  {
   "cell_type": "code",
   "execution_count": 3,
   "metadata": {},
   "outputs": [],
   "source": [
    "model = Noiseprint"
   ]
  },
  {
   "cell_type": "code",
   "execution_count": 4,
   "metadata": {},
   "outputs": [],
   "source": [
    "list_dir = lambda x: [os.path.join(x, i) for i in os.listdir(x)]"
   ]
  },
  {
   "cell_type": "code",
   "execution_count": 5,
   "metadata": {},
   "outputs": [],
   "source": [
    "def random_sample(list, k, seed):\n",
    "    random.seed(seed)\n",
    "    return random.sample(list, k)"
   ]
  },
  {
   "cell_type": "code",
   "execution_count": 6,
   "metadata": {},
   "outputs": [],
   "source": [
    "def load_image(path):\n",
    "    return to_tensor(Image.open(path))[:3] * 255"
   ]
  },
  {
   "cell_type": "code",
   "execution_count": 7,
   "metadata": {},
   "outputs": [],
   "source": [
    "def load_first_frame_of_video(path):\n",
    "    vr = decord.VideoReader(path)\n",
    "    return vr[0].permute(2, 0, 1)\n",
    "\n",
    "def load_second_frame_of_video(path):\n",
    "    vr = decord.VideoReader(path)\n",
    "    return vr[1].permute(2, 0, 1)"
   ]
  },
  {
   "cell_type": "code",
   "execution_count": 8,
   "metadata": {},
   "outputs": [],
   "source": [
    "def get_off_diag_elements(matrix):\n",
    "    \"\"\"\n",
    "    Extracts off-diagonal elements of a 2D matrix using PyTorch.\n",
    "\n",
    "    Args:\n",
    "        matrix (torch.Tensor): The input 2D matrix.\n",
    "\n",
    "    Returns:\n",
    "        torch.Tensor: A 1D tensor containing the off-diagonal elements of the input matrix.\n",
    "    \"\"\"\n",
    "    m, n = matrix.size()\n",
    "    mask = torch.ones(m, n, dtype=torch.bool)\n",
    "    mask = mask.triu(diagonal=1) | mask.tril(diagonal=-1)\n",
    "    return matrix[mask].flatten()\n"
   ]
  },
  {
   "cell_type": "code",
   "execution_count": 9,
   "metadata": {},
   "outputs": [],
   "source": [
    "# get statistics for each distribution, rturn as dict\n",
    "def get_stats(dist):\n",
    "    return {\n",
    "        \"mean\": dist.mean().item(),\n",
    "        \"median\": dist.median().item(),\n",
    "        \"std\": dist.std().item(),\n",
    "        \"min\": dist.min().item(),\n",
    "        \"max\": dist.max().item(),\n",
    "    }"
   ]
  },
  {
   "cell_type": "code",
   "execution_count": 10,
   "metadata": {},
   "outputs": [],
   "source": [
    "def plot_distrib_histogram(dist: torch.Tensor, ax: plt.Axes=None, title: str=None):\n",
    "    stats = get_stats(dist)\n",
    "    range = (dist.min().item(), dist.max().item())\n",
    "    hist, bin_edges = torch.histogram(dist, bins=100, density=False, range=range)\n",
    "\n",
    "    if ax is None:\n",
    "        plt.bar(bin_edges[:-1], hist, width=0.5*(bin_edges[1]-bin_edges[0]))\n",
    "        # plt.xlim(0, 1.5)\n",
    "        plt.xlabel('Value')\n",
    "        plt.ylabel('Frequency')\n",
    "        if title is not None:\n",
    "            plt.title(f\"{title} \\n(mean={stats['mean']:.2f}, median={stats['median']:.2f}, std={stats['std']:.2f})\")\n",
    "    else:\n",
    "        ax.bar(bin_edges[:-1], hist, width=0.5*(bin_edges[1]-bin_edges[0]))\n",
    "        # ax.set_xlim(0, 1.5)\n",
    "        ax.set_xlabel('Value')\n",
    "        ax.set_ylabel('Frequency')\n",
    "        if title is not None:\n",
    "            ax.set_title(f\"{title} \\n(mean={stats['mean']:.2f}, median={stats['median']:.2f}, std={stats['std']:.2f})\")\n",
    "    "
   ]
  },
  {
   "cell_type": "code",
   "execution_count": 11,
   "metadata": {},
   "outputs": [],
   "source": [
    "def plot_auth_vs_manip_distrib(auth: torch.Tensor, manip: torch.Tensor, ax: plt.Axes=None, title: str=None, stats=False):\n",
    "    epsilon = 1e-8\n",
    "    if stats:\n",
    "        auth_stats = get_stats(auth)\n",
    "        manip_stats = get_stats(manip)\n",
    "    # range = (35, 60)\n",
    "    range = (min(auth.min().item(), manip.min().item()), max(auth.max().item(), manip.max().item()))\n",
    "    auth_hist, auth_bin_edges = torch.histogram(auth, bins=70, density=False, range=range)\n",
    "    manip_hist, manip_bin_edges = torch.histogram(manip, bins=70, density=False, range=range)\n",
    "\n",
    "    auth_pdf = auth_hist / auth_hist.sum() + epsilon\n",
    "    manip_pdf = manip_hist / manip_hist.sum() + epsilon\n",
    "    kl_div = torch.sum(auth_pdf * torch.log2(auth_pdf / manip_pdf))\n",
    "\n",
    "    if ax is None:\n",
    "        plt.plot(auth_bin_edges[:-1], auth_pdf, label=\"Dist(auth_emb_i, auth_emb_j)\")\n",
    "        plt.plot(manip_bin_edges[:-1], manip_pdf, label=\"Dist(manip_emb_i, auth_emb_j)\")\n",
    "        plt.xlim(range)\n",
    "        plt.xlabel('Pairwise Embedding Distance')\n",
    "        plt.ylabel('Probability')\n",
    "        plt.legend()\n",
    "        if title is not None:\n",
    "            plt.title(\n",
    "                f\"{title} kl_div={kl_div:.2f}\" \n",
    "                + f\"\\n(auth: mean={auth_stats['mean']:.2f}, median={auth_stats['median']:.2f}), (manip: mean={manip_stats['mean']:.2f}, median={manip_stats['median']:.2f})\"\n",
    "                if stats else \"\"\n",
    "            )\n",
    "    else:\n",
    "        ax.plot(auth_bin_edges[:-1], auth_pdf, label=\"authentic\")\n",
    "        ax.plot(manip_bin_edges[:-1], manip_pdf, label=\"manipulated\")\n",
    "        ax.set_xlim(range)\n",
    "        ax.set_xlabel('Value')\n",
    "        ax.set_ylabel('Probability')\n",
    "        ax.legend()\n",
    "        if title is not None:\n",
    "            ax.set_title(\n",
    "                f\"{title} kl_div={kl_div:.2f}\" \n",
    "                + f\"\\n(auth: mean={auth_stats['mean']:.2f}, median={auth_stats['median']:.2f}), (manip: mean={manip_stats['mean']:.2f}, median={manip_stats['median']:.2f})\"\n",
    "                if stats else \"\"\n",
    "            )"
   ]
  },
  {
   "cell_type": "code",
   "execution_count": 12,
   "metadata": {},
   "outputs": [],
   "source": [
    "@torch.no_grad()\n",
    "def get_feature_distance_distrib(sample_paths, load_fn):\n",
    "    feature_distances = []\n",
    "    for img_path in tqdm(sample_paths):\n",
    "        img = load_fn(img_path)\n",
    "        spam, valid, range0, range1, imgsize = model.get_features(img)\n",
    "        spam = torch.tensor(spam).flatten(0, 1)\n",
    "        feature_distance = get_off_diag_elements(torch.cdist(spam, spam))\n",
    "        feature_distances.append(feature_distance)\n",
    "    feature_distances = torch.cat(feature_distances).cpu()\n",
    "    return feature_distances"
   ]
  },
  {
   "cell_type": "code",
   "execution_count": 13,
   "metadata": {},
   "outputs": [],
   "source": [
    "kernel_size, stride = 64, 64\n",
    "\n",
    "@torch.no_grad()\n",
    "def get_feature_distance_distribs(paths, load_fn):\n",
    "    # sample_paths, mask_paths = paths\n",
    "\n",
    "    feat_dist_auth_v_auth = []\n",
    "    feat_dist_auth_v_manip = []\n",
    "\n",
    "    for img_path, mask_path in tqdm(zip(*paths)):\n",
    "        img = load_fn(img_path)\n",
    "        mask = (load_image(mask_path)[1] > 0).int()\n",
    "\n",
    "        img_residual = torch.tensor(model.get_features(img))\n",
    "        img_residual = (\n",
    "            img_residual.unfold(0, kernel_size, kernel_size)\n",
    "            .unfold(1, kernel_size, kernel_size)\n",
    "            .flatten(0, 1)\n",
    "            .flatten(1, 2)\n",
    "        )\n",
    "\n",
    "        mask = (\n",
    "            mask.unfold(0, kernel_size, kernel_size)\n",
    "            .unfold(1, kernel_size, kernel_size)\n",
    "            .flatten(0, 1)\n",
    "            .flatten(1, 2)\n",
    "        )\n",
    "\n",
    "        auth_idx = torch.where(mask.sum(dim=1) == 0)[0]\n",
    "        manip_idx = torch.where(mask.sum(dim=1) != 0)[0]\n",
    "\n",
    "        feat_dist_auth_v_auth.append(get_off_diag_elements(torch.cdist(img_residual[auth_idx], img_residual[auth_idx])))\n",
    "        feat_dist_auth_v_manip.append(get_off_diag_elements(torch.cdist(img_residual[auth_idx], img_residual[manip_idx])))\n",
    "    feat_dist_auth_v_auth = torch.cat(feat_dist_auth_v_auth).cpu()\n",
    "    feat_dist_auth_v_manip = torch.cat(feat_dist_auth_v_manip).cpu()\n",
    "\n",
    "    return feat_dist_auth_v_auth, feat_dist_auth_v_manip"
   ]
  },
  {
   "cell_type": "code",
   "execution_count": 14,
   "metadata": {},
   "outputs": [],
   "source": [
    "tampering_db_path = \"/media/nas2/Tai/6-tampering-databases\"\n",
    "db_manip_name = \"4cam_splc\" # carvalho_tampered, IPVM_manip\n",
    "db_mask_name = \"4cam_masks\"\n",
    "db_manip_path = os.path.join(tampering_db_path, db_manip_name)\n",
    "db_mask_path = os.path.join(tampering_db_path, db_mask_name)\n",
    "vid_enc_db_path = os.path.join(tampering_db_path, \"video_encoding_experiment\", db_manip_name)"
   ]
  },
  {
   "cell_type": "code",
   "execution_count": 15,
   "metadata": {},
   "outputs": [],
   "source": [
    "k = 1\n",
    "seed = 2\n",
    "manipulated_images = random_sample(list_dir(db_manip_path), k, seed)\n",
    "manipulated_videos = random_sample(list_dir(vid_enc_db_path), k, seed)\n",
    "\n",
    "masks = []\n",
    "for img_path in manipulated_images:\n",
    "    filename = os.path.splitext(os.path.basename(img_path))[0]\n",
    "    mask_path = f\"{db_mask_path}/{filename}_edgemask.jpg\"\n",
    "    masks.append(mask_path)"
   ]
  },
  {
   "cell_type": "code",
   "execution_count": 19,
   "metadata": {},
   "outputs": [
    {
     "data": {
      "application/vnd.jupyter.widget-view+json": {
       "model_id": "3a84d80c24b84f76a21962c97c6cd4d8",
       "version_major": 2,
       "version_minor": 0
      },
      "text/plain": [
       "0it [00:00, ?it/s]"
      ]
     },
     "metadata": {},
     "output_type": "display_data"
    },
    {
     "data": {
      "image/png": "[encoded data removed]",
      "text/plain": [
       "<Figure size 432x288 with 1 Axes>"
      ]
     },
     "metadata": {
      "needs_background": "light"
     },
     "output_type": "display_data"
    }
   ],
   "source": [
    "img_auth_v_auth, img_auth_v_manip = get_feature_distance_distribs((manipulated_images, masks), load_image)\n",
    "# plt.figure(dpi=200)\n",
    "plot_auth_vs_manip_distrib(img_auth_v_auth, img_auth_v_manip, title=\"Image\")"
   ]
  },
  {
   "cell_type": "code",
   "execution_count": 17,
   "metadata": {},
   "outputs": [
    {
     "data": {
      "application/vnd.jupyter.widget-view+json": {
       "model_id": "25dfba6ca25e4fccb8d1f711c00c49a5",
       "version_major": 2,
       "version_minor": 0
      },
      "text/plain": [
       "0it [00:00, ?it/s]"
      ]
     },
     "metadata": {},
     "output_type": "display_data"
    },
    {
     "data": {
      "image/png": "[encoded data removed]",
      "text/plain": [
       "<Figure size 432x288 with 1 Axes>"
      ]
     },
     "metadata": {
      "needs_background": "light"
     },
     "output_type": "display_data"
    }
   ],
   "source": [
    "vid_auth_v_auth, vid_auth_v_manip = get_feature_distance_distribs((manipulated_videos, masks), load_first_frame_of_video)\n",
    "# plt.figure(dpi=200)\n",
    "plot_auth_vs_manip_distrib(vid_auth_v_auth, vid_auth_v_manip, title=\"Image\")"
   ]
  },
  {
   "cell_type": "code",
   "execution_count": 18,
   "metadata": {},
   "outputs": [
    {
     "ename": "InterruptedError",
     "evalue": "",
     "output_type": "error",
     "traceback": [
      "\u001b[0;31m---------------------------------------------------------------------------\u001b[0m",
      "\u001b[0;31mInterruptedError\u001b[0m                          Traceback (most recent call last)",
      "Cell \u001b[0;32mIn[18], line 1\u001b[0m\n\u001b[0;32m----> 1\u001b[0m \u001b[39mraise\u001b[39;00m \u001b[39mInterruptedError\u001b[39;00m\n",
      "\u001b[0;31mInterruptedError\u001b[0m: "
     ]
    }
   ],
   "source": [
    "raise InterruptedError"
   ]
  },
  {
   "cell_type": "code",
   "execution_count": null,
   "metadata": {},
   "outputs": [],
   "source": []
  },
  {
   "cell_type": "code",
   "execution_count": null,
   "metadata": {},
   "outputs": [],
   "source": [
    "image_feature_distances_dict = {\n",
    "    \"authentic_images\": get_feature_distance_distrib(Noiseprint, authentic_images, load_image),\n",
    "    \"manipulated_images\": get_feature_distance_distrib(Noiseprint, manipulated_images, load_image),\n",
    "}"
   ]
  },
  {
   "cell_type": "code",
   "execution_count": null,
   "metadata": {},
   "outputs": [],
   "source": [
    "video_feature_distances_dict = {\n",
    "    \"authentic_videos_1st_frame\": get_feature_distance_distrib(Noiseprint, authentic_videos, load_first_frame_of_video),\n",
    "    # \"authentic_videos_2nd_frame\": get_feature_distance_distrib(Noiseprint, authentic_videos, load_second_frame_of_video),\n",
    "    \"manipulated_videos_1st_frame\": get_feature_distance_distrib(Noiseprint, manipulated_videos, load_first_frame_of_video),\n",
    "    # \"manipulated_videos_2nd_frame\": get_feature_distance_distrib(Noiseprint, manipulated_videos, load_second_frame_of_video),\n",
    "}"
   ]
  },
  {
   "cell_type": "code",
   "execution_count": null,
   "metadata": {},
   "outputs": [],
   "source": [
    "plot_auth_vs_manip_distrib(image_feature_distances_dict[\"authentic_images\"], image_feature_distances_dict[\"manipulated_images\"], title=\"Image\")"
   ]
  },
  {
   "cell_type": "code",
   "execution_count": null,
   "metadata": {},
   "outputs": [],
   "source": [
    "plot_auth_vs_manip_distrib(video_feature_distances_dict[\"authentic_videos_1st_frame\"], video_feature_distances_dict[\"manipulated_videos_1st_frame\"], title=\"Video 1st Frame\")"
   ]
  },
  {
   "cell_type": "code",
   "execution_count": null,
   "metadata": {},
   "outputs": [],
   "source": [
    "# fig, axes = plt.subplots(1, 2, figsize=(10, 5))\n",
    "# for i, (key, feature_distances) in enumerate(image_feature_distances_dict.items()):\n",
    "#     plot_distrib_histogram(feature_distances, axes[i%2], title=key)\n",
    "# plt.subplots_adjust(hspace=0.3)"
   ]
  },
  {
   "cell_type": "code",
   "execution_count": null,
   "metadata": {},
   "outputs": [],
   "source": [
    "# fig, axes = plt.subplots(2, 2, figsize=(10, 10))\n",
    "# for i, (key, feature_distances) in enumerate(video_feature_distances_dict.items()):\n",
    "#     plot_distrib_histogram(feature_distances, axes[i//2, i%2], title=key)\n",
    "# plt.subplots_adjust(hspace=0.3)"
   ]
  },
  {
   "cell_type": "code",
   "execution_count": null,
   "metadata": {},
   "outputs": [],
   "source": [
    "# plot_auth_vs_manip_distrib(video_feature_distances_dict[\"authentic_videos_2nd_frame\"], video_feature_distances_dict[\"manipulated_videos_2nd_frame\"], title=\"Video 2nd Frame\")"
   ]
  },
  {
   "cell_type": "code",
   "execution_count": null,
   "metadata": {},
   "outputs": [],
   "source": [
    "def kl_div(p, q):\n",
    "    epsilon = 1e-8\n",
    "    hist1, _ = torch.histogram(p, bins=70)\n",
    "    hist2, _ = torch.histogram(q, bins=70)\n",
    "    pdf1 = hist1 / hist1.sum() + epsilon\n",
    "    pdf2 = hist2 / hist2.sum() + epsilon\n",
    "    return torch.sum(pdf1 * torch.log2(pdf1 / pdf2))"
   ]
  },
  {
   "cell_type": "code",
   "execution_count": null,
   "metadata": {},
   "outputs": [],
   "source": [
    "(\n",
    "    kl_div(image_feature_distances_dict[\"authentic_images\"], image_feature_distances_dict[\"manipulated_images\"]),\n",
    "    kl_div(video_feature_distances_dict[\"authentic_videos_1st_frame\"], video_feature_distances_dict[\"manipulated_videos_1st_frame\"]),\n",
    ")"
   ]
  },
  {
   "cell_type": "code",
   "execution_count": null,
   "metadata": {},
   "outputs": [],
   "source": []
  },
  {
   "cell_type": "code",
   "execution_count": null,
   "metadata": {},
   "outputs": [],
   "source": []
  }
 ],
 "metadata": {
  "kernelspec": {
   "display_name": "pyt_tf2",
   "language": "python",
   "name": "python3"
  },
  "language_info": {
   "codemirror_mode": {
    "name": "ipython",
    "version": 3
   },
   "file_extension": ".py",
   "mimetype": "text/x-python",
   "name": "python",
   "nbconvert_exporter": "python",
   "pygments_lexer": "ipython3",
   "version": "3.9.16"
  },
  "orig_nbformat": 4
 },
 "nbformat": 4,
 "nbformat_minor": 2
}
