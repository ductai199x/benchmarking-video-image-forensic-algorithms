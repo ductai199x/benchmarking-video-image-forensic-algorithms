{
 "cells": [
  {
   "cell_type": "code",
   "execution_count": null,
   "metadata": {},
   "outputs": [],
   "source": [
    "import os\n",
    "import random\n",
    "\n",
    "import torch\n",
    "import decord\n",
    "import matplotlib.pyplot as plt\n",
    "from PIL import Image\n",
    "from torchvision.transforms.functional import to_tensor\n",
    "from tqdm.auto import tqdm\n",
    "\n",
    "decord.bridge.set_bridge(\"torch\")"
   ]
  },
  {
   "cell_type": "code",
   "execution_count": null,
   "metadata": {},
   "outputs": [],
   "source": [
    "from models.exifnet import ExifnetImageEvalPLWrapper as Exifnet"
   ]
  },
  {
   "cell_type": "code",
   "execution_count": null,
   "metadata": {},
   "outputs": [],
   "source": [
    "list_dir = lambda x: [os.path.join(x, i) for i in os.listdir(x)]"
   ]
  },
  {
   "cell_type": "code",
   "execution_count": null,
   "metadata": {},
   "outputs": [],
   "source": [
    "def load_image(path):\n",
    "    return to_tensor(Image.open(path))[:3] * 255"
   ]
  },
  {
   "cell_type": "code",
   "execution_count": null,
   "metadata": {},
   "outputs": [],
   "source": [
    "def load_first_frame_of_video(path):\n",
    "    vr = decord.VideoReader(path)\n",
    "    return vr[0].permute(2, 0, 1)\n",
    "\n",
    "def load_second_frame_of_video(path):\n",
    "    vr = decord.VideoReader(path)\n",
    "    return vr[1].permute(2, 0, 1)"
   ]
  },
  {
   "cell_type": "code",
   "execution_count": null,
   "metadata": {},
   "outputs": [],
   "source": [
    "def get_off_diag_elements(x):\n",
    "    n = x.shape[0]\n",
    "    return x.flatten()[1:].view(n-1, n+1)[:,:-1].flatten()"
   ]
  },
  {
   "cell_type": "code",
   "execution_count": null,
   "metadata": {},
   "outputs": [],
   "source": [
    "@torch.no_grad()\n",
    "def get_feature_distance_distrib(Exifnet, sample_paths, load_fn):\n",
    "    feature_distances = []\n",
    "    for img_path in tqdm(sample_paths):\n",
    "        img = load_fn(img_path)\n",
    "        feature_distance = Exifnet.model.get_features(img.permute(1, 2, 0).numpy())\n",
    "        feature_distance = torch.tensor(feature_distance.reshape((-1, feature_distance.shape[0] * feature_distance.shape[1])))\n",
    "        feature_distance = get_off_diag_elements(feature_distance)\n",
    "        feature_distances.append(feature_distance)\n",
    "    feature_distances = torch.cat(feature_distances).cpu()\n",
    "    return feature_distances"
   ]
  },
  {
   "cell_type": "code",
   "execution_count": null,
   "metadata": {},
   "outputs": [],
   "source": [
    "# get statistics for each distribution, rturn as dict\n",
    "def get_stats(dist):\n",
    "    return {\n",
    "        \"mean\": dist.mean().item(),\n",
    "        \"median\": dist.median().item(),\n",
    "        \"std\": dist.std().item(),\n",
    "        \"min\": dist.min().item(),\n",
    "        \"max\": dist.max().item(),\n",
    "    }"
   ]
  },
  {
   "cell_type": "code",
   "execution_count": null,
   "metadata": {},
   "outputs": [],
   "source": [
    "def plot_distrib_histogram(dist: torch.Tensor, ax: plt.Axes=None, title: str=None):\n",
    "    stats = get_stats(dist)\n",
    "    hist, bin_edges = torch.histogram(dist, bins=100, density=True)\n",
    "\n",
    "    if ax is None:\n",
    "        plt.bar(bin_edges[:-1], hist, width=0.5*(bin_edges[1]-bin_edges[0]))\n",
    "        plt.xlabel('Value')\n",
    "        plt.ylabel('Frequency')\n",
    "        if title is not None:\n",
    "            plt.title(f\"{title} \\n(mean={stats['mean']:.2f}, median={stats['median']:.2f}, std={stats['std']:.2f})\")\n",
    "    else:\n",
    "        ax.bar(bin_edges[:-1], hist, width=0.5*(bin_edges[1]-bin_edges[0]))\n",
    "        ax.set_xlabel('Value')\n",
    "        ax.set_ylabel('Frequency')\n",
    "        if title is not None:\n",
    "            ax.set_title(f\"{title} \\n(mean={stats['mean']:.2f}, median={stats['median']:.2f}, std={stats['std']:.2f})\")\n",
    "    "
   ]
  },
  {
   "cell_type": "code",
   "execution_count": null,
   "metadata": {},
   "outputs": [],
   "source": [
    "def plot_auth_vs_manip_distrib(auth: torch.Tensor, manip: torch.Tensor, ax: plt.Axes=None, title: str=None):\n",
    "    auth_stats = get_stats(auth)\n",
    "    manip_stats = get_stats(manip)\n",
    "    auth_hist, auth_bin_edges = torch.histogram(auth, bins=100, density=True)\n",
    "    manip_hist, manip_bin_edges = torch.histogram(manip, bins=100, density=True)\n",
    "\n",
    "    if ax is None:\n",
    "        plt.plot(auth_bin_edges[:-1], auth_hist, label=\"authentic\")\n",
    "        plt.plot(manip_bin_edges[:-1], manip_hist, label=\"manipulated\")\n",
    "        # plt.xlim(0, 20)\n",
    "        plt.xlabel('Value')\n",
    "        plt.ylabel('Probability')\n",
    "        plt.legend()\n",
    "        if title is not None:\n",
    "            plt.title(f\"{title} \\n(authentic: mean={auth_stats['mean']:.2f}, median={auth_stats['median']:.2f}, std={auth_stats['std']:.2f}), (manipulated: mean={manip_stats['mean']:.2f}, median={manip_stats['median']:.2f}, std={manip_stats['std']:.2f})\")\n",
    "    else:\n",
    "        ax.plot(auth_bin_edges[:-1], auth_hist, label=\"authentic\")\n",
    "        ax.plot(manip_bin_edges[:-1], manip_hist, label=\"manipulated\")\n",
    "        # ax.set_xlim(0, 20)\n",
    "        ax.set_xlabel('Value')\n",
    "        ax.set_ylabel('Probability')\n",
    "        ax.legend()\n",
    "        if title is not None:\n",
    "            ax.set_title(f\"{title} \\n(authentic: mean={auth_stats['mean']:.2f}, median={auth_stats['median']:.2f}, std={auth_stats['std']:.2f}), (manipulated: mean={manip_stats['mean']:.2f}, median={manip_stats['median']:.2f}, std={manip_stats['std']:.2f})\")"
   ]
  },
  {
   "cell_type": "code",
   "execution_count": null,
   "metadata": {},
   "outputs": [],
   "source": [
    "k = 5\n",
    "random.seed(42)\n",
    "# authentic_images = random.sample([f for f in list_dir(\"/media/nas2/graph_sim_data/image_cam_model_splicing/test\") if \"orig\" in f and f.endswith(\"png\")], k)\n",
    "\n",
    "# random.seed(42)\n",
    "# manipulated_images = random.sample([f for f in list_dir(\"/media/nas2/graph_sim_data/image_cam_model_splicing/test\") if \"manip\" in f and f.endswith(\"png\")], k)\n",
    "\n",
    "# random.seed(42)\n",
    "# authentic_videos = random.sample(list_dir(\"/media/nas2/graph_sim_data/video_advanced_splicing/original\"), k)\n",
    "\n",
    "# random.seed(42)\n",
    "# manipulated_videos = random.sample(list_dir(\"/media/nas2/graph_sim_data/video_advanced_splicing/manipulated\"), k)\n",
    "\n",
    "# random.seed(42)\n",
    "# authentic_images = random.sample([f for f in list_dir(\"/media/nas2/Tai/6-tampering-databases/carvalho_pristine\") if f.endswith(\"png\")], k)\n",
    "\n",
    "# random.seed(42)\n",
    "# manipulated_images = random.sample([f for f in list_dir(\"/media/nas2/Tai/6-tampering-databases/carvalho_tampered\") if f.endswith(\"png\")], k)\n",
    "\n",
    "# random.seed(42)\n",
    "# authentic_videos = random.sample(list_dir(\"/media/nas2/Tai/6-tampering-databases/video_encoding_experiment/carvalho_pristine\"), k)\n",
    "\n",
    "# random.seed(42)\n",
    "# manipulated_videos = random.sample(list_dir(\"/media/nas2/Tai/6-tampering-databases/video_encoding_experiment/carvalho_tampered\"), k)\n",
    "\n",
    "random.seed(42)\n",
    "authentic_images = random.sample([f for f in list_dir(\"/media/nas2/Tai/6-tampering-databases/4cam_auth\")], k)\n",
    "\n",
    "random.seed(42)\n",
    "manipulated_images = random.sample([f for f in list_dir(\"/media/nas2/Tai/6-tampering-databases/4cam_splc\")], k)\n",
    "\n",
    "random.seed(42)\n",
    "authentic_videos = random.sample(list_dir(\"/media/nas2/Tai/6-tampering-databases/video_encoding_experiment/4cam_auth\"), k)\n",
    "\n",
    "random.seed(42)\n",
    "manipulated_videos = random.sample(list_dir(\"/media/nas2/Tai/6-tampering-databases/video_encoding_experiment/4cam_splc\"), k)\n"
   ]
  },
  {
   "cell_type": "code",
   "execution_count": null,
   "metadata": {},
   "outputs": [],
   "source": [
    "image_feature_distances_dict = {\n",
    "    \"authentic_images\": get_feature_distance_distrib(Exifnet, authentic_images, load_image),\n",
    "    \"manipulated_images\": get_feature_distance_distrib(Exifnet, manipulated_images, load_image),\n",
    "}\n",
    "\n",
    "# video_feature_distances_dict = {\n",
    "#     \"authentic_videos_1st_frame\": get_feature_distance_distrib(Exifnet, authentic_videos, load_first_frame_of_video),\n",
    "#     \"authentic_videos_2nd_frame\": get_feature_distance_distrib(Exifnet, authentic_videos, load_second_frame_of_video),\n",
    "#     \"manipulated_videos_1st_frame\": get_feature_distance_distrib(Exifnet, manipulated_videos, load_first_frame_of_video),\n",
    "#     \"manipulated_videos_2nd_frame\": get_feature_distance_distrib(Exifnet, manipulated_videos, load_second_frame_of_video),\n",
    "# }"
   ]
  },
  {
   "cell_type": "code",
   "execution_count": null,
   "metadata": {},
   "outputs": [],
   "source": [
    "# fig, axes = plt.subplots(1, 2, figsize=(10, 5))\n",
    "# for i, (key, feature_distances) in enumerate(image_feature_distances_dict.items()):\n",
    "#     plot_distrib_histogram(feature_distances, axes[i%2], title=key)\n",
    "# plt.subplots_adjust(hspace=0.3)"
   ]
  },
  {
   "cell_type": "code",
   "execution_count": null,
   "metadata": {},
   "outputs": [],
   "source": [
    "# fig, axes = plt.subplots(2, 2, figsize=(10, 10))\n",
    "# for i, (key, feature_distances) in enumerate(video_feature_distances_dict.items()):\n",
    "#     plot_distrib_histogram(feature_distances, axes[i//2, i%2], title=key)\n",
    "# plt.subplots_adjust(hspace=0.3)"
   ]
  },
  {
   "cell_type": "code",
   "execution_count": null,
   "metadata": {},
   "outputs": [],
   "source": [
    "plot_auth_vs_manip_distrib(image_feature_distances_dict[\"authentic_images\"], image_feature_distances_dict[\"manipulated_images\"], title=\"Image\")"
   ]
  },
  {
   "cell_type": "code",
   "execution_count": null,
   "metadata": {},
   "outputs": [],
   "source": [
    "plot_distrib_histogram(image_feature_distances_dict[\"manipulated_images\"], title=\"Authentic Images\")"
   ]
  },
  {
   "cell_type": "code",
   "execution_count": null,
   "metadata": {},
   "outputs": [],
   "source": []
  },
  {
   "cell_type": "code",
   "execution_count": null,
   "metadata": {},
   "outputs": [],
   "source": []
  },
  {
   "cell_type": "code",
   "execution_count": null,
   "metadata": {},
   "outputs": [],
   "source": []
  }
 ],
 "metadata": {
  "kernelspec": {
   "display_name": "pyt_tf2",
   "language": "python",
   "name": "python3"
  },
  "language_info": {
   "codemirror_mode": {
    "name": "ipython",
    "version": 3
   },
   "file_extension": ".py",
   "mimetype": "text/x-python",
   "name": "python",
   "nbconvert_exporter": "python",
   "pygments_lexer": "ipython3",
   "version": "3.9.16"
  },
  "orig_nbformat": 4
 },
 "nbformat": 4,
 "nbformat_minor": 2
}
